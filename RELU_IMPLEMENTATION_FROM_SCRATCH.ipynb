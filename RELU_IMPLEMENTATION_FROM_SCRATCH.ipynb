{
  "nbformat": 4,
  "nbformat_minor": 0,
  "metadata": {
    "colab": {
      "name": "RELU IMPLEMENTATION FROM SCRATCH.ipynb",
      "provenance": [],
      "private_outputs": true,
      "authorship_tag": "ABX9TyN7sT79KOzM246zfl+RRN8e",
      "include_colab_link": true
    },
    "kernelspec": {
      "name": "python3",
      "display_name": "Python 3"
    }
  },
  "cells": [
    {
      "cell_type": "markdown",
      "metadata": {
        "id": "view-in-github",
        "colab_type": "text"
      },
      "source": [
        "<a href=\"https://colab.research.google.com/github/pavansai26/RELU-IMPLEMENTATION-FROM-SCRATCH/blob/master/RELU_IMPLEMENTATION_FROM_SCRATCH.ipynb\" target=\"_parent\"><img src=\"https://colab.research.google.com/assets/colab-badge.svg\" alt=\"Open In Colab\"/></a>"
      ]
    },
    {
      "cell_type": "code",
      "metadata": {
        "id": "pQfCN9TMuozv",
        "colab_type": "code",
        "colab": {}
      },
      "source": [
        "import numpy as np"
      ],
      "execution_count": null,
      "outputs": []
    },
    {
      "cell_type": "markdown",
      "metadata": {
        "id": "j0pE155Xz26i",
        "colab_type": "text"
      },
      "source": [
        "# RELU activation function\n"
      ]
    },
    {
      "cell_type": "markdown",
      "metadata": {
        "id": "UhGxXdd20lAZ",
        "colab_type": "text"
      },
      "source": [
        "$$ f\\left(x\\right) = \\max\\left(0, x\\right) $$"
      ]
    },
    {
      "cell_type": "code",
      "metadata": {
        "id": "3InkizlI-Bub",
        "colab_type": "code",
        "colab": {}
      },
      "source": [
        "def relu(X):\n",
        "   return np.maximum(0,X)"
      ],
      "execution_count": null,
      "outputs": []
    },
    {
      "cell_type": "code",
      "metadata": {
        "id": "OjS1Ee1i_SAu",
        "colab_type": "code",
        "colab": {}
      },
      "source": [
        "# plot inputs and outputs\n",
        "from matplotlib import pyplot\n",
        " \n",
        "# rectified linear function\n",
        "def relu(X):\n",
        "   return np.maximum(0,X)\n",
        " \n",
        "# define a series of inputs\n",
        "series_in = [x for x in range(-10, 11)]\n",
        "# calculate outputs for our inputs\n",
        "series_out = [relu(x) for x in series_in]\n",
        "# line plot of raw inputs to rectified outputs\n",
        "pyplot.plot(series_in, series_out)\n",
        "pyplot.show()"
      ],
      "execution_count": null,
      "outputs": []
    },
    {
      "cell_type": "code",
      "metadata": {
        "id": "jHL5cxppGuuU",
        "colab_type": "code",
        "colab": {}
      },
      "source": [
        ""
      ],
      "execution_count": null,
      "outputs": []
    },
    {
      "cell_type": "markdown",
      "metadata": {
        "id": "Cr_tKfDecnQ1",
        "colab_type": "text"
      },
      "source": [
        ""
      ]
    }
  ]
}